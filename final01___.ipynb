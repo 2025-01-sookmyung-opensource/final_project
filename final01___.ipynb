{
  "nbformat": 4,
  "nbformat_minor": 0,
  "metadata": {
    "colab": {
      "provenance": [],
      "include_colab_link": true
    },
    "kernelspec": {
      "name": "python3",
      "display_name": "Python 3"
    },
    "language_info": {
      "name": "python"
    }
  },
  "cells": [
    {
      "cell_type": "markdown",
      "metadata": {
        "id": "view-in-github",
        "colab_type": "text"
      },
      "source": [
        "<a href=\"https://colab.research.google.com/github/2025-01-sookmyung-opensource/final_project/blob/pre-yoon/final01___.ipynb\" target=\"_parent\"><img src=\"https://colab.research.google.com/assets/colab-badge.svg\" alt=\"Open In Colab\"/></a>"
      ]
    },
    {
      "cell_type": "markdown",
      "source": [
        "# 피드백 바탕 과제 스펙 재정리\n",
        "\n",
        "### 1. 추천 모델은 EfficientNet과 YOLOv12가 있음  \n",
        "\n",
        "### 2. 그러나 YOLOv12는 현재 공식 버전이 없으며, 가장 최신 모델은 YOLOv8임  \n",
        "\n",
        "### 3. EfficientNet과 YOLOv8을 비교한 결과,  \n",
        "- EfficientNet은 바운딩 박스를 지원하지 않아  \n",
        "- 한 이미지 내 여러 음식을 찾아 분류하기 어려움  \n",
        "- 이는 식단 사진을 분석해 혈당을 예측하는 본 프로젝트 목적과 부합하지 않음  \n",
        "\n",
        "### => 따라서 최종적으로 YOLOv8 모델을 활용하기로 결정함"
      ],
      "metadata": {
        "id": "fJHtabodq0u7"
      }
    },
    {
      "cell_type": "markdown",
      "source": [
        "# 프로젝트 개요  \n",
        "<br>\n",
        "\n",
        "### 경량화된 이미지 인식 + 혈당 예측 시스템 구축\n",
        "\n",
        "#### 당뇨병 환자의 식단 분석을 위해 아래 2가지 시스템을 개발할 예정  \n",
        "- 음식 사진을 통한 **자동 분류 시스템**  \n",
        "- 사용자 정보 기반 **식후 혈당 반응 예측 모델**  \n",
        "\n",
        "<br><br>\n",
        "\n",
        "### 0. 기술 목표  \n",
        "- **YOLOv8n** 기반 20종 음식 이미지 분류 모델 개발  \n",
        "- **MLP 회귀 모델**을 활용한 혈당 반응 예측  \n",
        "- 전체 파이프라인을 **Google Colab**에서 실행 가능하게 구성  \n",
        "\n",
        "<br><br>\n",
        "\n",
        "### 1. 데이터 준비  \n",
        "\n",
        "<br>\n",
        "\n",
        "#### 1-1. 음식 이미지 데이터  \n",
        "- **총 2,000장** (20종 × 100장)  \n",
        "- 해상도: `640 × 640` px  \n",
        "- 라벨 : 음식명 (YOLOv8 txt 형식)  \n",
        "\n",
        "<br>\n",
        "\n",
        "#### 1-2. 혈당 측정 데이터  \n",
        "- **총 1,000건**  \n",
        "- 컬럼  \n",
        "  - 음식 종류  \n",
        "  - 식사 시각  \n",
        "  - 식후 2시간 혈당  \n",
        "  - 사용자 성별, 나이, 체중  \n",
        "\n",
        "<br>\n",
        "\n",
        "### 2. 모델 개발  \n",
        "\n",
        "<br>\n",
        "\n",
        "#### 2-1. 음식 인식 모델 개발 (YOLOv8n)  \n",
        "- **모델** : `YOLOv8n` (Ultralytics)  \n",
        "- **환경** : Google Colab  \n",
        "- **학습 설정** : Epoch=100, Batch size=16  \n",
        "- **증강** : 회전, 색상 왜곡, 크롭 등  \n",
        "- **평가** : mAP@0.5, Precision, Recall  \n",
        "- **목표** : Top-1 기준 정확도 80% 이상  \n",
        "- **결과** : `best.pt` (경량 모델 저장)  \n",
        "\n",
        "<br>\n",
        "\n",
        "#### 2-2. 혈당 예측 모델 개발 (MLP 회귀)  \n",
        "- **모델** : MLP 기반 회귀 (TensorFlow or PyTorch)  \n",
        "- **입력** : 음식 종류, 개수, 식사 시각, 성별, 나이, 체중  \n",
        "- **출력** : 식후 2시간 혈당 예측 (mg/dL)  \n",
        "- **전처리** : 정규화 + One-hot 인코딩  \n",
        "- **평가** : MAE, RMSE 등 회귀 성능 지표 사용  \n",
        "\n",
        "<br>\n",
        "\n",
        "### 3. 시스템 전체 흐름 정리  \n",
        "\n",
        "- 사용자 음식 사진 업로드  \n",
        "→ YOLOv8n으로 음식 인식  \n",
        "→ 음식 종류/개수 추출  \n",
        "→ 사용자 기본 정보 입력  \n",
        "→ 회귀 모델로 혈당 예측  \n",
        "→ 결과 출력 (예상 혈당 수치)  \n"
      ],
      "metadata": {
        "id": "D_anvWj1j0zR"
      }
    }
  ]
}
