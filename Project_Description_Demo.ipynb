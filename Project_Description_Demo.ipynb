{
  "nbformat": 4,
  "nbformat_minor": 0,
  "metadata": {
    "colab": {
      "provenance": [],
      "toc_visible": true,
      "authorship_tag": "ABX9TyMO/TWjycWMKnIGH6K8xPQ/",
      "include_colab_link": true
    },
    "kernelspec": {
      "name": "python3",
      "display_name": "Python 3"
    },
    "language_info": {
      "name": "python"
    }
  },
  "cells": [
    {
      "cell_type": "markdown",
      "metadata": {
        "id": "view-in-github",
        "colab_type": "text"
      },
      "source": [
        "<a href=\"https://colab.research.google.com/github/woojin-devv/final_project/blob/main/ProjectDescription.ipynb\" target=\"_parent\"><img src=\"https://colab.research.google.com/assets/colab-badge.svg\" alt=\"Open In Colab\"/></a>"
      ]
    },
    {
      "cell_type": "code",
      "execution_count": null,
      "metadata": {
        "id": "xT_EK-MpiOXN"
      },
      "outputs": [],
      "source": []
    },
    {
      "cell_type": "markdown",
      "source": [
        "### 주제: 디지털 약자(타게팅 : 노인)를 위한 소근육 발달 프로그램\n",
        "- (타겟 변경 제안; 기존: 어린아이 -> 노인)\n",
        "- 노인은 스마트 기기 사용에 익숙하지 않은 경우가 많아, 터치가 아닌 제스처 기반 인터페이스가 특히 효과적\n",
        "\n",
        "- 워크 플로우 (역할 분담)\n",
        "  -> 디버깅 및 라벨링 작업에 점수를 크게 준다고 하셨으므로, 공평하게 좋은 점수를 받기 위해선 아래와 같은 역할 분담이 필요할 것으로 보임\n",
        "\n",
        "  <A ~ D는 역할 분담임>\n",
        "  - UI 명세는 다같이 하되, 보고서 및 명세서 작성 / UI 구성은 2명씩 나누기\n",
        "\n",
        "  <데이터 학습 관련 역할 분담>\n",
        "  - A: Mediapipe 세팅 및 데이터 수집 코드 구현, 라벨링 툴 개발\n",
        "  - B: 데이터 전처리, CNN 모델 학습, 실시간 추론 로직 정제\n",
        "  - C: OpenCV 기반 게임 화면 구성, 실시간 예측 반영 UI 개발\n",
        "  - D: 게임 콘텐츠 구성 (예: 손 동작 미션 설계), TTS 피드백, 점수 시스템 설계\n",
        "\n",
        "공동 작업:\n",
        "- A + D: 라벨링 및 데이터셋 구성\n",
        "- B + C: 실시간 추론 결과 UI 연동\n",
        "  - 손 관절 추적 (Mediapipe) (A)\n",
        "  - 좌표 수집 → CSV 저장 (라벨 포함) (A), (D)\n",
        "  - 모델 학습 (CNN) (C), (B)\n",
        "  - 게임 화면에서 실시간 추론 (C) , (B)\n",
        "  - 치매 예방용 게임 구성 (점수, 피드백 포함) (D)\n",
        "\n",
        "- 기대효과\n",
        "  - 손가락 운동과 인지 자극을 결합한 게임 활동은 노인의 작업 기억 및 주의 집중력을 향상시켜 치매 예방에 긍정적인 영향을 미침\n",
        "  - 카메라 기반 손 제스처 인터페이스는 터치 조작 없이도 상호작용 가능하게 하여 노인의 디지털 접근성을 높임\n",
        "  - 게임 결과와 피드백을 보호자와 공유할 수 있는 구조를 통해 노인의 활동을 지속적으로 관찰하고 응원할 수 있는 기회 제공\n",
        "\n",
        "- 게임 구성요소 예시\n",
        "  - 시작 단계: 손가락 펴기를 완성하면 시작 (모달로 손가락 펴주세요, tts음성 함께 출력)\n",
        "    - tts 대안 1 ( Google Cloud Text-to-Speech)\n",
        "    - tts 대안 2 (pyttsx3 (로컬 실행, 오프라인 가능))\n",
        "  - 점수 획득 : 엄지척, 브이 등 다양한 손 포즈 (이 부분은 더 고민 해봐야할 것 같음)\n",
        "  - 추가 기능 -> 손가락 vector값 인식해서 도형그리기\n",
        "    - 예시) 손가락으로 원을 그려보세요 → 화면에 자동으로 도형 출력 + 점수 부여\n",
        "    - 연속 프레임 내 손가락 tip 좌표 벡터 분석 → 형태 추출\n",
        "\n",
        "- deployment 환경 (GCP)"
      ],
      "metadata": {
        "id": "M8M5OlBKiOya"
      }
    }
  ]
}
