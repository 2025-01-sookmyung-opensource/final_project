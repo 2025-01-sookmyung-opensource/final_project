{
  "nbformat": 4,
  "nbformat_minor": 0,
  "metadata": {
    "colab": {
      "provenance": [],
      "authorship_tag": "ABX9TyOaubaZp9CsDyeEtLwaybCs",
      "include_colab_link": true
    },
    "kernelspec": {
      "name": "python3",
      "display_name": "Python 3"
    },
    "language_info": {
      "name": "python"
    }
  },
  "cells": [
    {
      "cell_type": "markdown",
      "metadata": {
        "id": "view-in-github",
        "colab_type": "text"
      },
      "source": [
        "<a href=\"https://colab.research.google.com/github/2025-01-sookmyung-opensource/final_project/blob/pre-yoon/test0.ipynb\" target=\"_parent\"><img src=\"https://colab.research.google.com/assets/colab-badge.svg\" alt=\"Open In Colab\"/></a>"
      ]
    },
    {
      "cell_type": "code",
      "execution_count": null,
      "metadata": {
        "id": "Zpje0ly39bpI"
      },
      "outputs": [],
      "source": [
        "# 과제 조건 : 기존 오픈소스 모델을 가져와서 새로운데이터를 학습시키고 그 과정에서 발생하는 문제점들을 디버깅하라. 특히, 새로운 데이터를 학습시키는 것과 문제 디버깅이 채점 요인.\n",
        "\n",
        "# 위와 같은 과제를 받고 저희는 아래와 같이 주제를 선정하였습니다. 학습이 필요한 과정은 구글 코랩을 이용하고자 합니다. 로컬에는 gpu 없어요\n",
        "\n",
        "# 1. 게임 시작\n",
        "# 2. 손 동작 5가지 보여주기 웹캠 화면에 보여지도록 → 10초 후에 맞으면 점수 추가, 틀리면 0점(맞춘 시간이 짧으면 더 높은 점수 줘도 좋을 듯)\n",
        "# 3. 최종 점수 보여지게"
      ]
    },
    {
      "cell_type": "code",
      "source": [
        "# https://www.youtube.com/watch?v=o-YZKpvTR-g\n",
        "\n",
        "# https://vrworld.tistory.com/12\n",
        "\n",
        "# https://ai.google.dev/edge/mediapipe/solutions/vision/gesture_recognizer?hl=ko\n",
        "\n",
        "# https://www.youtube.com/watch?v=eHxDWhtbRCk"
      ],
      "metadata": {
        "id": "xODt5T_oJ8j1"
      },
      "execution_count": null,
      "outputs": []
    }
  ]
}