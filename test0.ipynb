{
  "nbformat": 4,
  "nbformat_minor": 0,
  "metadata": {
    "colab": {
      "provenance": [],
      "authorship_tag": "ABX9TyMYeP5/EfO/PGgvEhyqZ94i",
      "include_colab_link": true
    },
    "kernelspec": {
      "name": "python3",
      "display_name": "Python 3"
    },
    "language_info": {
      "name": "python"
    }
  },
  "cells": [
    {
      "cell_type": "markdown",
      "metadata": {
        "id": "view-in-github",
        "colab_type": "text"
      },
      "source": [
        "<a href=\"https://colab.research.google.com/github/2025-01-sookmyung-opensource/final_project/blob/pre-yoon/test0.ipynb\" target=\"_parent\"><img src=\"https://colab.research.google.com/assets/colab-badge.svg\" alt=\"Open In Colab\"/></a>"
      ]
    },
    {
      "cell_type": "code",
      "execution_count": null,
      "metadata": {
        "id": "Zpje0ly39bpI"
      },
      "outputs": [],
      "source": [
        "# 과제 조건 : 기존 오픈소스 모델을 가져와서 새로운데이터를 학습시키고 그 과정에서 발생하는 문제점들을 디버깅하라. 특히, 새로운 데이터를 학습시키는 것과 문제 디버깅이 채점 요인.\n",
        "# 제출 : 동영상 -> 잘 안된 경우도 포함하여라. 약한 부분을 분석해서 보고서에 첨부하는 것이 포인트임."
      ]
    },
    {
      "cell_type": "code",
      "source": [
        "# 논의중인 주제 (test1)\n",
        "# 1. 게임 시작\n",
        "# 2. 손 동작 5가지 보여주기 웹캠 화면에 보여지도록 → 10초 후에 맞으면 점수 추가, 틀리면 0점(맞춘 시간이 짧으면 더 높은 점수 줘도 좋을 듯)\n",
        "# 3. 최종 점수 보여지게\n",
        "\n",
        "# 의문점 : 이게 왜 사회적 약자 배려..? 다음 회의에서 다시 논의해봐야 할 것 같음..\n",
        "\n",
        "# 레퍼런스\n",
        "# https://github.com/Imagine-ENTZ/AirDrawing?tab=readme-ov-file\n",
        "# https://www.youtube.com/watch?v=o-YZKpvTR-g\n",
        "# https://vrworld.tistory.com/12\n",
        "# https://ai.google.dev/edge/mediapipe/solutions/vision/gesture_recognizer?hl=ko\n",
        "# https://www.youtube.com/watch?v=eHxDWhtbRCk"
      ],
      "metadata": {
        "id": "xODt5T_oJ8j1"
      },
      "execution_count": null,
      "outputs": []
    },
    {
      "cell_type": "code",
      "source": [
        "# 새로운 서비스 제안 (test2)\n",
        "\n",
        "# 주제 : \"시각장애인을 위한 물체 인식 안내 시스템 만들기\"\n",
        "# 상세 : 오픈소스 컴퓨터 비전 모델(YOLOv5)을 활용하여, 시각장애인이 길거리에서 흔히 마주치는 장애물/물체를 실시간으로 인식하고 음성으로 안내해 주는 시스템을 만드는 프로젝트\n",
        "\n",
        "# 순서\n",
        "# 1. 카메라에서 실시간 영상 입력\n",
        "# 2. YOLOv5 모델로 물체 인식\n",
        "# 3. 인식된 물체를 음성으로 변환하여 사용자에게 안내\n",
        "\n",
        "# 레퍼런스 : https://study-grow.tistory.com/entry/efficientDet%EC%9D%84-%EC%9D%B4%EC%9A%A9%ED%95%9C-detection-deeplearning"
      ],
      "metadata": {
        "id": "iJ9SqPU8wLJc"
      },
      "execution_count": null,
      "outputs": []
    }
  ]
}