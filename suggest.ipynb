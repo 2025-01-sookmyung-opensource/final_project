{
  "nbformat": 4,
  "nbformat_minor": 0,
  "metadata": {
    "colab": {
      "provenance": [],
      "authorship_tag": "ABX9TyPYi/HyGddesm9fgiVJPl44",
      "include_colab_link": true
    },
    "kernelspec": {
      "name": "python3",
      "display_name": "Python 3"
    },
    "language_info": {
      "name": "python"
    }
  },
  "cells": [
    {
      "cell_type": "markdown",
      "metadata": {
        "id": "view-in-github",
        "colab_type": "text"
      },
      "source": [
        "<a href=\"https://colab.research.google.com/github/2025-01-sookmyung-opensource/final_project/blob/pre-min/Untitled1.ipynb\" target=\"_parent\"><img src=\"https://colab.research.google.com/assets/colab-badge.svg\" alt=\"Open In Colab\"/></a>"
      ]
    },
    {
      "cell_type": "code",
      "execution_count": null,
      "metadata": {
        "id": "EuUQykZ_RhPu"
      },
      "outputs": [],
      "source": [
        "#오픈소스에 있는 모델을 가져와서 새로운 데이터를 학습시켜 잘 작동하는지 보는 건데,,, 기본 모델 틀을 가져와서 수정해야하는 것 같음.\n",
        "#기존에 잘 만들어져 있는 모델을 가져와서 데이터 학습시키고 디버깅,,,이 별로 없다면? 너무 할게 없고 한게 없는 과제가 되니까..\n",
        "#기본 모델에 아이디어 한 개정도 추가해서 새로운 데이터셋 만들고 학습시켜서 디버깅하는 과정.\n",
        "#역할 분담은/A팀 2명 B팀 2명/\n",
        "#아이디어 추가한 부분 모델 설계(A), 새로운 데이터셋 레이블링작업 분담(B), 학습시키고 디버깅하는 사람(A), UI손보는 사람(B)\n",
        "#최종보고서(B).\n"
      ]
    }
  ]
}
