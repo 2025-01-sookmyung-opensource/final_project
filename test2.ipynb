{
  "nbformat": 4,
  "nbformat_minor": 0,
  "metadata": {
    "colab": {
      "provenance": [],
      "authorship_tag": "ABX9TyOotr3L+PS/GmbE7M+b01ZJ",
      "include_colab_link": true
    },
    "kernelspec": {
      "name": "python3",
      "display_name": "Python 3"
    },
    "language_info": {
      "name": "python"
    }
  },
  "cells": [
    {
      "cell_type": "markdown",
      "metadata": {
        "id": "view-in-github",
        "colab_type": "text"
      },
      "source": [
        "<a href=\"https://colab.research.google.com/github/2025-01-sookmyung-opensource/final_project/blob/pre-yoon/test2.ipynb\" target=\"_parent\"><img src=\"https://colab.research.google.com/assets/colab-badge.svg\" alt=\"Open In Colab\"/></a>"
      ]
    },
    {
      "cell_type": "code",
      "execution_count": null,
      "metadata": {
        "id": "B9oXmMdsyrfo"
      },
      "outputs": [],
      "source": [
        "## test2 : \"시각장애인을 위한 물체 인식 안내 시스템 만들기\"\n",
        "# 상세 : 오픈소스 컴퓨터 비전 모델(YOLOv5)을 활용하여, 시각장애인이 길거리에서 흔히 마주치는 장애물/물체를 실시간으로 인식하고 음성으로 안내해 주는 시스템을 만드는 프로젝트\n",
        "\n",
        "# 순서\n",
        "# 1. 카메라에서 실시간 영상 입력\n",
        "# 2. YOLOv5 모델로 물체 인식\n",
        "# 3. 인식된 물체를 음성으로 변환하여 사용자에게 안내"
      ]
    }
  ]
}