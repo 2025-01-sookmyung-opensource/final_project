{
  "nbformat": 4,
  "nbformat_minor": 0,
  "metadata": {
    "colab": {
      "provenance": [],
      "authorship_tag": "ABX9TyMKK8XOTfCneo14uer1qLav",
      "include_colab_link": true
    },
    "kernelspec": {
      "name": "python3",
      "display_name": "Python 3"
    },
    "language_info": {
      "name": "python"
    }
  },
  "cells": [
    {
      "cell_type": "markdown",
      "metadata": {
        "id": "view-in-github",
        "colab_type": "text"
      },
      "source": [
        "<a href=\"https://colab.research.google.com/github/2025-01-sookmyung-opensource/final_project/blob/main/Final.ipynb\" target=\"_parent\"><img src=\"https://colab.research.google.com/assets/colab-badge.svg\" alt=\"Open In Colab\"/></a>"
      ]
    },
    {
      "cell_type": "code",
      "execution_count": null,
      "metadata": {
        "id": "Lg27zxxbPGVK"
      },
      "outputs": [],
      "source": [
        "# 1. 필요한 패키지 설치\n",
        "!pip install -q streamlit pyngrok ultralytics gdown opencv-python pillow"
      ]
    },
    {
      "cell_type": "code",
      "source": [
        "# 2. pyngrok 임포트 및 인증 토큰 설정\n",
        "from pyngrok import ngrok\n",
        "\n",
        "# ngrok 인증 토큰 마스킹\n",
        "ngrok.set_auth_token(\"2p\")\n",
        "\n",
        "# 3. 기존에 열려있는 ngrok 세션 종료 (중복 방지)\n",
        "!pkill -f ngrok"
      ],
      "metadata": {
        "id": "DyLYLB4rQt3e"
      },
      "execution_count": null,
      "outputs": []
    },
    {
      "cell_type": "code",
      "source": [
        "# 4. Google Drive에서 모델 다운로드\n",
        "import gdown\n",
        "gdown.download(id='1sl1dXyWuJiXjhHeacomWwfppsM57VJ85', output='best.pt', quiet=False)\n",
        "\n",
        "# 5. Streamlit 앱 저장\n",
        "app_code = r\"\"\"\n",
        "import streamlit as st\n",
        "from PIL import Image\n",
        "import numpy as np\n",
        "import cv2\n",
        "from ultralytics import YOLO\n",
        "\n",
        "# ─────────────────────────  설정  ─────────────────────────\n",
        "st.set_page_config(page_title='🍱 식단 이미지 분석기', layout='centered')\n",
        "st.title('🍱 식단 이미지 분석기')\n",
        "st.markdown('업로드한 음식 사진에서 YOLOv8로 음식을 탐지하고, '\n",
        "            '각 객체를 잘라 다시 분석합니다.')\n",
        "\n",
        "# 모델 로드\n",
        "@st.cache_resource\n",
        "def load_model():\n",
        "    return YOLO('best.pt')\n",
        "model = load_model()\n",
        "\n",
        "# ─────────────────────────  업로드  ─────────────────────────\n",
        "uploaded = st.file_uploader('이미지를 업로드하세요', ['jpg', 'jpeg', 'png'])\n",
        "\n",
        "if uploaded:\n",
        "    pil_img = Image.open(uploaded).convert('RGB')\n",
        "    rgb = np.array(pil_img)                         # (H,W,RGB) for display\n",
        "    bgr = cv2.cvtColor(rgb, cv2.COLOR_RGB2BGR)      # (H,W,BGR) for YOLO\n",
        "\n",
        "    st.image(rgb, caption='업로드한 이미지', use_column_width=True)\n",
        "\n",
        "    # ─────────────  1차 예측  ─────────────\n",
        "    res = model.predict(bgr, verbose=False)[0]\n",
        "    names = model.names\n",
        "    cls_ids = res.boxes.cls.cpu().numpy().astype(int)\n",
        "    boxes   = res.boxes.xyxy.cpu().numpy()\n",
        "\n",
        "    # 클래스별 개수 집계\n",
        "    detected = {}\n",
        "    for cid in cls_ids:\n",
        "        name = names[cid]\n",
        "        detected[name] = detected.get(name, 0) + 1\n",
        "\n",
        "    st.subheader('🍽️ 인식된 항목')\n",
        "    if detected:\n",
        "        for k, v in detected.items():\n",
        "            st.write(f'- {k}: {v}개')\n",
        "    else:\n",
        "        st.write('아무것도 인식되지 않았습니다.')\n",
        "\n",
        "    # 전체 시각화 (result.plot() 는 이미 RGB ➜ 그대로 사용)\n",
        "    st.image(res.plot(), caption='YOLO 전체 인식 결과', use_column_width=True)\n",
        "\n",
        "    # ─────────────  개별 객체 + 2차 예측  ─────────────\n",
        "    st.subheader('🔍 인식된 객체 및 상세 분석')\n",
        "    for i, (cid, box) in enumerate(zip(cls_ids, boxes), start=1):\n",
        "        x1, y1, x2, y2 = map(int, box)\n",
        "        crop_rgb = rgb[y1:y2, x1:x2]                # 표시용 (RGB)\n",
        "        crop_bgr = cv2.cvtColor(crop_rgb, cv2.COLOR_RGB2BGR)  # 추론용\n",
        "\n",
        "        if crop_rgb.size == 0:\n",
        "            continue\n",
        "\n",
        "        st.image(crop_rgb, caption=f'{i}. {names[cid]}', width=240)\n",
        "\n",
        "        # 2차 예측\n",
        "        sub = model.predict(crop_bgr, verbose=False)[0]\n",
        "        sub_ids = sub.boxes.cls.cpu().numpy().astype(int)\n",
        "        sub_det = {}\n",
        "        for sid in sub_ids:\n",
        "            sname = names[sid]\n",
        "            sub_det[sname] = sub_det.get(sname, 0) + 1\n",
        "\n",
        "        if sub_det:\n",
        "            st.markdown(f'**{i}. {names[cid]} 내부 분석 결과**')\n",
        "            for sname, scnt in sub_det.items():\n",
        "                st.write(f'↳ {sname}: {scnt}개')\n",
        "\n",
        "        st.image(sub.plot(), caption=f'{i}. 상세 분석 시각화', width=300)\n",
        "\"\"\"\n",
        "\n",
        "with open('app.py', 'w') as f:\n",
        "    f.write(app_code)\n",
        "\n",
        "# 6. Streamlit 백그라운드 실행\n",
        "!nohup streamlit run app.py > /dev/null 2>&1 &\n",
        "\n",
        "# 7. 외부 접속 주소 생성\n",
        "public_url = ngrok.connect(8501)\n",
        "print(f'✅ 앱이 준비되었습니다: {public_url}')"
      ],
      "metadata": {
        "colab": {
          "base_uri": "https://localhost:8080/"
        },
        "id": "YnO8s56PPRlN",
        "outputId": "2dac9cae-d7c6-4d5f-97fa-51be159a98ed"
      },
      "execution_count": null,
      "outputs": [
        {
          "output_type": "stream",
          "name": "stderr",
          "text": [
            "Downloading...\n",
            "From: https://drive.google.com/uc?id=1sl1dXyWuJiXjhHeacomWwfppsM57VJ85\n",
            "To: /content/best.pt\n",
            "100%|██████████| 6.26M/6.26M [00:00<00:00, 40.7MB/s]\n"
          ]
        },
        {
          "output_type": "stream",
          "name": "stdout",
          "text": [
            "✅ 접속 주소: NgrokTunnel: \"https://d5f2-34-16-160-81.ngrok-free.app\" -> \"http://localhost:8501\"\n",
            "\n",
            "Collecting usage statistics. To deactivate, set browser.gatherUsageStats to false.\n",
            "\n"
          ]
        }
      ]
    }
  ]
}