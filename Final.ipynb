{
  "nbformat": 4,
  "nbformat_minor": 0,
  "metadata": {
    "colab": {
      "provenance": [],
      "authorship_tag": "ABX9TyNLjaUQSLBnhU8EbrKYkxmJ",
      "include_colab_link": true
    },
    "kernelspec": {
      "name": "python3",
      "display_name": "Python 3"
    },
    "language_info": {
      "name": "python"
    }
  },
  "cells": [
    {
      "cell_type": "markdown",
      "metadata": {
        "id": "view-in-github",
        "colab_type": "text"
      },
      "source": [
        "<a href=\"https://colab.research.google.com/github/2025-01-sookmyung-opensource/final_project/blob/main/Final.ipynb\" target=\"_parent\"><img src=\"https://colab.research.google.com/assets/colab-badge.svg\" alt=\"Open In Colab\"/></a>"
      ]
    },
    {
      "cell_type": "code",
      "execution_count": 17,
      "metadata": {
        "id": "Lg27zxxbPGVK"
      },
      "outputs": [],
      "source": [
        "# 1. 필요한 패키지 설치\n",
        "!pip install -q streamlit pyngrok ultralytics gdown opencv-python pillow"
      ]
    },
    {
      "cell_type": "code",
      "source": [
        "# 2. pyngrok 임포트 및 인증 토큰 설정\n",
        "from pyngrok import ngrok\n",
        "\n",
        "# ngrok 인증 토큰 마스킹\n",
        "ngrok.set_auth_token(\"2Np\")\n",
        "\n",
        "# 3. 기존에 열려있는 ngrok 세션 종료 (중복 방지)\n",
        "ngrok.kill()"
      ],
      "metadata": {
        "id": "DyLYLB4rQt3e"
      },
      "execution_count": 19,
      "outputs": []
    },
    {
      "cell_type": "code",
      "source": [
        "# 4. 학습된 YOLO 모델(best.pt) 다운로드 (Google Drive)\n",
        "import gdown\n",
        "gdown.download(id='1sl1dXyWuJiXjhHeacomWwfppsM57VJ85', output='best.pt', quiet=False)\n",
        "\n",
        "# 5. 스트림릿 앱 코드 작성 (app.py로 저장)\n",
        "code = '''\n",
        "import streamlit as st\n",
        "from PIL import Image\n",
        "import numpy as np\n",
        "import cv2\n",
        "from ultralytics import YOLO\n",
        "\n",
        "model = YOLO('best.pt')\n",
        "\n",
        "st.set_page_config(page_title=\"🍱 식단 이미지 분석\", layout=\"centered\")\n",
        "st.title(\"🍱 식단 이미지 분석기\")\n",
        "st.markdown(\"이미지를 업로드하면 YOLO 모델이 음식을 인식하고 결과를 표시합니다.\")\n",
        "\n",
        "uploaded_file = st.file_uploader(\"이미지를 업로드하세요\", type=[\"jpg\", \"jpeg\", \"png\"])\n",
        "\n",
        "if uploaded_file is not None:\n",
        "    image = Image.open(uploaded_file).convert(\"RGB\")\n",
        "    st.image(image, caption=\"업로드한 이미지\", use_column_width=True)\n",
        "\n",
        "    results = model.predict(np.array(image))\n",
        "\n",
        "    detected = {}\n",
        "    for result in results:\n",
        "        class_ids = result.boxes.cls.cpu().numpy().astype(int)\n",
        "        for cid in class_ids:\n",
        "            name = model.names[cid]\n",
        "            detected[name] = detected.get(name, 0) + 1\n",
        "\n",
        "    st.subheader(\"🍽️ 인식된 항목:\")\n",
        "    if detected:\n",
        "        for name, count in detected.items():\n",
        "            st.write(f\"- {name}: {count}개\")\n",
        "    else:\n",
        "        st.write(\"아무것도 인식되지 않았습니다.\")\n",
        "\n",
        "    annotated = results[0].plot()\n",
        "    annotated = cv2.cvtColor(annotated, cv2.COLOR_BGR2RGB)\n",
        "    st.image(annotated, caption=\"YOLO 인식 결과\", use_column_width=True)\n",
        "'''\n",
        "\n",
        "with open(\"app.py\", \"w\") as f:\n",
        "    f.write(code)\n",
        "\n",
        "# 6. 스트림릿 서버 실행 (백그라운드)\n",
        "!nohup streamlit run app.py > log.txt 2>&1 &\n",
        "\n",
        "# 7. ngrok 터널 열기 (포트 8501)\n",
        "public_url = ngrok.connect(addr=\"8501\", proto=\"http\")\n",
        "print(f\"✅ 접속 주소: {public_url}\")\n",
        "\n",
        "# 8. 로그 확인 (필요 시)\n",
        "!tail -n 20 log.txt"
      ],
      "metadata": {
        "colab": {
          "base_uri": "https://localhost:8080/"
        },
        "id": "YnO8s56PPRlN",
        "outputId": "2dac9cae-d7c6-4d5f-97fa-51be159a98ed"
      },
      "execution_count": 20,
      "outputs": [
        {
          "output_type": "stream",
          "name": "stderr",
          "text": [
            "Downloading...\n",
            "From: https://drive.google.com/uc?id=1sl1dXyWuJiXjhHeacomWwfppsM57VJ85\n",
            "To: /content/best.pt\n",
            "100%|██████████| 6.26M/6.26M [00:00<00:00, 40.7MB/s]\n"
          ]
        },
        {
          "output_type": "stream",
          "name": "stdout",
          "text": [
            "✅ 접속 주소: NgrokTunnel: \"https://d5f2-34-16-160-81.ngrok-free.app\" -> \"http://localhost:8501\"\n",
            "\n",
            "Collecting usage statistics. To deactivate, set browser.gatherUsageStats to false.\n",
            "\n"
          ]
        }
      ]
    }
  ]
}