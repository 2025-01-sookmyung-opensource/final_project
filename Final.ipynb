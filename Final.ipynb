{
  "nbformat": 4,
  "nbformat_minor": 0,
  "metadata": {
    "colab": {
      "provenance": [],
      "authorship_tag": "ABX9TyOUj7qgDZ19rjiYcU0/sOiE",
      "include_colab_link": true
    },
    "kernelspec": {
      "name": "python3",
      "display_name": "Python 3"
    },
    "language_info": {
      "name": "python"
    }
  },
  "cells": [
    {
      "cell_type": "markdown",
      "metadata": {
        "id": "view-in-github",
        "colab_type": "text"
      },
      "source": [
        "<a href=\"https://colab.research.google.com/github/2025-01-sookmyung-opensource/final_project/blob/main/Final.ipynb\" target=\"_parent\"><img src=\"https://colab.research.google.com/assets/colab-badge.svg\" alt=\"Open In Colab\"/></a>"
      ]
    },
    {
      "cell_type": "code",
      "execution_count": null,
      "metadata": {
        "id": "Lg27zxxbPGVK"
      },
      "outputs": [],
      "source": [
        "# 1. 필요한 패키지 설치\n",
        "!pip install -q streamlit pyngrok ultralytics gdown opencv-python pillow"
      ]
    },
    {
      "cell_type": "code",
      "source": [
        "# 2. pyngrok 임포트 및 인증 토큰 설정\n",
        "from pyngrok import ngrok\n",
        "\n",
        "# ngrok 인증 토큰 마스킹\n",
        "ngrok.set_auth_token(\"2Np\")\n",
        "\n",
        "# 3. 기존에 열려있는 ngrok 세션 종료 (중복 방지)\n",
        "!pkill -f ngrok"
      ],
      "metadata": {
        "id": "DyLYLB4rQt3e"
      },
      "execution_count": null,
      "outputs": []
    },
    {
      "cell_type": "code",
      "source": [
        "# 모델 파일 다운로드\n",
        "import gdown\n",
        "\n",
        "# 1차 YOLOv8 탐지 모델 다운로드\n",
        "gdown.download(id='1sl1dXyWuJiXjhHeacomWwfppsM57VJ85', output='best.pt', quiet=False)\n",
        "\n",
        "# 2차 MobileNetV3 양 분류 모델 다운로드\n",
        "gdown.download(id='16Veaxcko0DjfWoSaPqtfe5FVqXxZ25dB', output='quantity_model.pt', quiet=False)"
      ],
      "metadata": {
        "id": "YnO8s56PPRlN"
      },
      "execution_count": null,
      "outputs": []
    },
    {
      "cell_type": "code",
      "source": [
        "# 🖼️ app.py 저장\n",
        "app_code = r\"\"\"\n",
        "import streamlit as st\n",
        "from PIL import Image\n",
        "import numpy as np\n",
        "import torch\n",
        "import torchvision.transforms as transforms\n",
        "import cv2\n",
        "from ultralytics import YOLO\n",
        "import torchvision.models as models\n",
        "import torch.nn as nn\n",
        "\n",
        "# ───────────────────────── 설정 ─────────────────────────\n",
        "st.set_page_config(page_title='🍱 식단 이미지 분석기', layout='centered')\n",
        "st.title('🍱 식단 이미지 분석기')\n",
        "st.markdown('YOLOv8로 음식을 탐지하고, MobileNetV3로 **양 등급(Q1~Q5)** 을 예측합니다.')\n",
        "\n",
        "# 등급 라벨\n",
        "q_labels = ['Q1', 'Q2', 'Q3', 'Q4', 'Q5']\n",
        "\n",
        "# ───────── 모델 로드 ─────────\n",
        "@st.cache_resource\n",
        "def load_models():\n",
        "    # 1차 YOLOv8\n",
        "    yolo = YOLO('best.pt')\n",
        "\n",
        "    # 2차 MobileNetV3\n",
        "    mobilenet = models.mobilenet_v3_small(weights=None)\n",
        "    mobilenet.classifier[3] = nn.Linear(mobilenet.classifier[3].in_features, 5)\n",
        "    mobilenet.load_state_dict(torch.load('quantity_model.pt', map_location='cpu'))\n",
        "    mobilenet.eval()\n",
        "\n",
        "    return yolo, mobilenet\n",
        "\n",
        "yolo_model, quantity_model = load_models()\n",
        "\n",
        "# 이미지 전처리 함수 (MobileNet용)\n",
        "transform = transforms.Compose([\n",
        "    transforms.Resize((224, 224)),\n",
        "    transforms.ToTensor(),\n",
        "])\n",
        "\n",
        "# ───────── 업로드 처리 ─────────\n",
        "uploaded = st.file_uploader(\"이미지를 업로드하세요\", ['jpg', 'jpeg', 'png'])\n",
        "\n",
        "if uploaded:\n",
        "    pil_img = Image.open(uploaded).convert('RGB')\n",
        "    rgb = np.array(pil_img)\n",
        "    bgr = cv2.cvtColor(rgb, cv2.COLOR_RGB2BGR)\n",
        "\n",
        "    st.image(rgb, caption=\"업로드한 이미지\", use_column_width=True)\n",
        "\n",
        "    # 1차 탐지 (YOLO)\n",
        "    res = yolo_model.predict(bgr, verbose=False)[0]\n",
        "    names = yolo_model.names\n",
        "    cls_ids = res.boxes.cls.cpu().numpy().astype(int)\n",
        "    boxes   = res.boxes.xyxy.cpu().numpy()\n",
        "\n",
        "    st.subheader(\"🍽️ 인식된 음식 목록\")\n",
        "    if len(cls_ids) == 0:\n",
        "        st.write(\"음식을 인식하지 못했습니다.\")\n",
        "    else:\n",
        "        for i, cid in enumerate(cls_ids):\n",
        "            st.write(f\"- {names[cid]}\")\n",
        "\n",
        "    st.image(res.plot(), caption=\"YOLO 인식 결과\", use_column_width=True)\n",
        "\n",
        "    st.subheader(\"📏 양 등급 분석 (Q1~Q5)\")\n",
        "    for i, (cid, box) in enumerate(zip(cls_ids, boxes), start=1):\n",
        "        x1, y1, x2, y2 = map(int, box)\n",
        "        crop_rgb = rgb[y1:y2, x1:x2]\n",
        "        if crop_rgb.size == 0:\n",
        "            continue\n",
        "\n",
        "        # Crop → PIL → Transform\n",
        "        pil_crop = Image.fromarray(crop_rgb)\n",
        "        input_tensor = transform(pil_crop).unsqueeze(0)  # (1, 3, 224, 224)\n",
        "\n",
        "        with torch.no_grad():\n",
        "            output = quantity_model(input_tensor)\n",
        "            _, predicted = torch.max(output, 1)\n",
        "            grade = q_labels[predicted.item()]\n",
        "\n",
        "        st.image(crop_rgb, caption=f\"{i}. {names[cid]} - 양 등급: {grade}\", width=300)\n",
        "\"\"\"\n",
        "\n",
        "with open(\"app.py\", \"w\") as f:\n",
        "    f.write(app_code)"
      ],
      "metadata": {
        "id": "2tEolcuaqmmL"
      },
      "execution_count": null,
      "outputs": []
    },
    {
      "cell_type": "code",
      "source": [
        "# 실행 및 공유\n",
        "!nohup streamlit run app.py > /dev/null 2>&1 &\n",
        "from pyngrok import ngrok\n",
        "public_url = ngrok.connect(8501)\n",
        "print(f'앱이 실행 중입니다: {public_url}')"
      ],
      "metadata": {
        "id": "H3bkVGwEqoFT"
      },
      "execution_count": null,
      "outputs": []
    }
  ]
}