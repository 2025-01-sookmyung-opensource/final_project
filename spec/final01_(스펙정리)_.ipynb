{
  "nbformat": 4,
  "nbformat_minor": 0,
  "metadata": {
    "colab": {
      "provenance": [],
      "authorship_tag": "ABX9TyO4PZp2z0Y+s/Qx4029FfVt",
      "include_colab_link": true
    },
    "kernelspec": {
      "name": "python3",
      "display_name": "Python 3"
    },
    "language_info": {
      "name": "python"
    }
  },
  "cells": [
    {
      "cell_type": "markdown",
      "metadata": {
        "id": "view-in-github",
        "colab_type": "text"
      },
      "source": [
        "<a href=\"https://colab.research.google.com/github/2025-01-sookmyung-opensource/final_project/blob/pre-yoon/final01_(%EC%8A%A4%ED%8E%99%EC%A0%95%EB%A6%AC)_.ipynb\" target=\"_parent\"><img src=\"https://colab.research.google.com/assets/colab-badge.svg\" alt=\"Open In Colab\"/></a>"
      ]
    },
    {
      "cell_type": "markdown",
      "source": [
        "#1. 데이터셋 준비\n",
        "#####   1-1. 음식 이미지 데이터 수집 및 전처리 (총 2,000장, 20종 클래스, 224×224 또는 416×416 해상도 정규화)\n",
        "#####   1-2. 음식 이미지 라벨링 (음식명 텍스트, 필요시 바운딩 박스 정보 YOLO 형식 포함)\n",
        "#####   1-3. 혈당 측정 데이터 수집 (1,000건, 음식종류, 식사 시각, 식후 2시간 혈당, 사용자 나이/성별/체중 포함)\n",
        "#####   1-4. 데이터셋 통합 및 형식 맞추기 (분류용, 회귀용 데이터셋 준비)\n",
        "\n",
        "\n",
        "#2. 음식 이미지 인식 모델 개발\n",
        "#####   2-1. EfficientNet 또는 YOLOv12n 모델 선정\n",
        "#####   2-2. Google Colab 환경에서 모델 학습 환경 구축 (Epoch 1020, Batch size 1632 설정)\n",
        "#####   2-3. 데이터 증강 적용 (회전, 크롭, 색상 왜곡 등)\n",
        "#####   2-4. 모델 학습 수행 및 성능 평가 (정확도, Top-1/Top-3, 신뢰도 점수 확인)\n",
        "#####   2-5. 최적화된 경량화 모델 확보\n",
        "\n",
        "#3. 혈당 예측 모델 개발\n",
        "#####   3-1. 입력 변수 정의 (음식 종류 인코딩, 사용자 정보: 나이, 성별, 식사 시간대 등)\n",
        "#####   3-2. 모델 후보 선정 및 구현 (선형 회귀, MLP 2~3층, LightGBM)\n",
        "#####   3-3. Colab 환경에서 모델 학습 및 평가 (RMSE, MAE 기준 예측 정확도 검증)\n",
        "#####   3-4. 혈당 위험 구간 분류(140 이하 정상, 140–180 주의, 180 이상 위험) 구현\n",
        "\n",
        "#4. 통합 파이프라인 구성 및 구현\n",
        "#####   4-1. 사용자 인터페이스 설계 (식사 전 음식 사진 업로드 기능)\n",
        "#####   4-2. 이미지 인식 단계 연결 (YOLOv12n 또는 EfficientNet를 통한 주요 음식 1~3종 식별)\n",
        "#####   4-3. 인식 결과 음식명 또는 클래스 ID → 내부 코드 변환 로직 구현\n",
        "#####   4-4. 혈당 예측 모델에 음식 정보 및 사용자 정보 입력 데이터 구성\n",
        "#####   4-5. 혈당 예측 수행 및 결과 도출\n",
        "#####   4-6. 예측 결과 시각화 (예측 혈당 수치, 위험 구간 색상 표시, 피드백 메시지 제공)\n",
        "\n",
        "#5. 테스트 및 검증\n",
        "#####   5-1. 전체 파이프라인 통합 테스트 (입력부터 최종 피드백까지 정상 작동 여부 확인)\n",
        "#####   5-2. 예측 정확도 및 사용자 피드백 수집\n",
        "#####   5-3. 개선 사항 도출 및 반영\n",
        "\n",
        "#6. 배포 및 활용\n",
        "#####   6-1. Google Colab 기반 학습 및 실행 환경 문서화 및 템플릿 제공\n",
        "#####   6-2. 의료기관, 연구기관, 보건소 등에서 활용 가능한 형태로 배포\n",
        "#####   6-3. 원격 당뇨 관리 앱 또는 디지털 헬스케어 시스템과 연동 방안 마련\n",
        "#####   6-4. 비대면 의료 서비스 및 의료 소외 계층 대상 서비스 확대 전략 수립"
      ],
      "metadata": {
        "id": "fJHtabodq0u7"
      }
    }
  ]
}
