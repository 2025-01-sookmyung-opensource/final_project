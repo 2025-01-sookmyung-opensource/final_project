{
  "nbformat": 4,
  "nbformat_minor": 0,
  "metadata": {
    "colab": {
      "provenance": [],
      "gpuType": "T4",
      "authorship_tag": "ABX9TyMFP2Na+DRwC7do9f5E5OAe",
      "include_colab_link": true
    },
    "kernelspec": {
      "name": "python3",
      "display_name": "Python 3"
    },
    "language_info": {
      "name": "python"
    },
    "accelerator": "GPU"
  },
  "cells": [
    {
      "cell_type": "markdown",
      "metadata": {
        "id": "view-in-github",
        "colab_type": "text"
      },
      "source": [
        "<a href=\"https://colab.research.google.com/github/2025-01-sookmyung-opensource/final_project/blob/pre-yoon/test_ui.ipynb\" target=\"_parent\"><img src=\"https://colab.research.google.com/assets/colab-badge.svg\" alt=\"Open In Colab\"/></a>"
      ]
    },
    {
      "cell_type": "code",
      "execution_count": 7,
      "metadata": {
        "collapsed": true,
        "id": "X595QuB0Ab4j"
      },
      "outputs": [],
      "source": [
        "!pip install streamlit pyngrok --quiet"
      ]
    },
    {
      "cell_type": "code",
      "source": [
        "code = '''\n",
        "import streamlit as st\n",
        "from PIL import Image\n",
        "import datetime\n",
        "\n",
        "st.set_page_config(page_title=\"식단 입력 폼\", layout=\"centered\")\n",
        "st.title(\"🍽️ 식단 입력 폼\")\n",
        "\n",
        "with st.form(\"diet_form\"):\n",
        "    age = st.number_input(\"나이\", min_value=0, step=1)\n",
        "    gender = st.radio(\"성별\", options=[\"남성\", \"여성\"], horizontal=True)\n",
        "    height = st.number_input(\"키 (cm)\", min_value=0, step=1)\n",
        "    weight = st.number_input(\"몸무게 (kg)\", min_value=0, step=1)\n",
        "    meal_image = st.file_uploader(\"식단 이미지\", type=[\"jpg\", \"jpeg\", \"png\"])\n",
        "    meal_time = st.time_input(\"식단 시간\", value=datetime.time(12, 0))\n",
        "\n",
        "    submitted = st.form_submit_button(\"제출\")\n",
        "\n",
        "    if submitted:\n",
        "        st.subheader(\"💭 혈당 분석 결과\")\n",
        "        st.write(f\"나이: {age}세\")\n",
        "        st.write(f\"성별: {gender}\")\n",
        "        st.write(f\"키: {height}cm\")\n",
        "        st.write(f\"몸무게: {weight}kg\")\n",
        "        st.write(f\"식사 시간: {meal_time.strftime('%H:%M')}\")\n",
        "\n",
        "        if meal_image:\n",
        "            st.image(Image.open(meal_image), caption=\"업로드한 식단 이미지\", use_column_width=True)\n",
        "        else:\n",
        "            st.warning(\"이미지가 업로드되지 않았습니다.\")\n",
        "'''\n",
        "with open(\"app.py\", \"w\") as f:\n",
        "    f.write(code)"
      ],
      "metadata": {
        "id": "63X35IWZArD8"
      },
      "execution_count": 8,
      "outputs": []
    },
    {
      "cell_type": "code",
      "source": [
        "# 기존 설정 삭제\n",
        "!rm -f /root/.config/ngrok/ngrok.yml\n",
        "\n",
        "# authtoken 마스킹\n",
        "!ngrok config add-authtoken 2"
      ],
      "metadata": {
        "colab": {
          "base_uri": "https://localhost:8080/"
        },
        "id": "Y-jveHK-AuGv",
        "outputId": "fb6909d3-777e-4132-a870-b54c8a099e34"
      },
      "execution_count": 9,
      "outputs": [
        {
          "output_type": "stream",
          "name": "stdout",
          "text": [
            "Authtoken saved to configuration file: /root/.config/ngrok/ngrok.yml\n"
          ]
        }
      ]
    },
    {
      "cell_type": "code",
      "source": [
        "!streamlit run app.py > log.txt 2>&1 &"
      ],
      "metadata": {
        "id": "Tchf7IuvCOqq"
      },
      "execution_count": 13,
      "outputs": []
    },
    {
      "cell_type": "code",
      "source": [
        "from pyngrok import ngrok\n",
        "ngrok.kill()  # 혹시 열려 있던 터널 닫기\n",
        "public_url = ngrok.connect(addr=8502, proto=\"http\")\n",
        "print(f\"접속 링크: {public_url}\")\n",
        "!tail -n 30 log.txt"
      ],
      "metadata": {
        "colab": {
          "base_uri": "https://localhost:8080/"
        },
        "id": "Nsew8FY1CZEe",
        "outputId": "e8ac1921-000f-497f-c486-3705cc27dd7a"
      },
      "execution_count": 15,
      "outputs": [
        {
          "output_type": "stream",
          "name": "stdout",
          "text": [
            "접속 링크: NgrokTunnel: \"https://dc6f-34-75-239-32.ngrok-free.app\" -> \"http://localhost:8502\"\n",
            "\n",
            "Collecting usage statistics. To deactivate, set browser.gatherUsageStats to false.\n",
            "\n",
            "\n",
            "  You can now view your Streamlit app in your browser.\n",
            "\n",
            "  Local URL: http://localhost:8502\n",
            "  Network URL: http://172.28.0.12:8502\n",
            "  External URL: http://34.75.239.32:8502\n",
            "\n"
          ]
        }
      ]
    }
  ]
}