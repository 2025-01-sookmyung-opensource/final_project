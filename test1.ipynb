{
  "nbformat": 4,
  "nbformat_minor": 0,
  "metadata": {
    "colab": {
      "provenance": [],
      "authorship_tag": "ABX9TyOi6merAM8lx75F0I0ifUgH",
      "include_colab_link": true
    },
    "kernelspec": {
      "name": "python3",
      "display_name": "Python 3"
    },
    "language_info": {
      "name": "python"
    }
  },
  "cells": [
    {
      "cell_type": "markdown",
      "metadata": {
        "id": "view-in-github",
        "colab_type": "text"
      },
      "source": [
        "<a href=\"https://colab.research.google.com/github/2025-01-sookmyung-opensource/final_project/blob/pre-yoon/test1.ipynb\" target=\"_parent\"><img src=\"https://colab.research.google.com/assets/colab-badge.svg\" alt=\"Open In Colab\"/></a>"
      ]
    },
    {
      "cell_type": "code",
      "execution_count": null,
      "metadata": {
        "id": "KZgWkQzFyHtZ"
      },
      "outputs": [],
      "source": [
        "## test1 : 손동작 인식\n",
        "# 1. 게임 시작\n",
        "# 2. 손 동작 5가지 보여주기 웹캠 화면에 보여지도록 → 10초 후에 맞으면 점수 추가, 틀리면 0점(맞춘 시간이 짧으면 더 높은 점수 줘도 좋을 듯)\n",
        "# 3. 최종 점수 보여지게"
      ]
    }
  ]
}